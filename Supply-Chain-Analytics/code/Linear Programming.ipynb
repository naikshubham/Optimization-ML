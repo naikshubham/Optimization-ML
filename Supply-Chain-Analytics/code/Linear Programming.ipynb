{
 "cells": [
  {
   "cell_type": "markdown",
   "metadata": {},
   "source": [
    "### Choosing exercise routine\n",
    "- choosing an exercise routine that burns the max number of calories. A function has been defined, based on the input of pushups and miles ran, will print the number of calories burned, time used, and if that time is greater than 10 minutes."
   ]
  },
  {
   "cell_type": "code",
   "execution_count": 16,
   "metadata": {},
   "outputs": [],
   "source": [
    "from pulp import *"
   ]
  },
  {
   "cell_type": "code",
   "execution_count": 15,
   "metadata": {},
   "outputs": [
    {
     "name": "stdout",
     "output_type": "stream",
     "text": [
      "50.0 pushups\n",
      "0.0 running\n"
     ]
    }
   ],
   "source": [
    "# Initialize Class\n",
    "model = LpProblem(\"Maximize calories burnt\", LpMaximize)\n",
    "\n",
    "# Define Decision Variables\n",
    "num_pushup = LpVariable('Pushups', lowBound=0, upBound=None, cat='Integer')\n",
    "num_miles_ran = LpVariable('Running', lowBound=0, upBound=None, cat='Integer')\n",
    "\n",
    "# Define Objective Function\n",
    "model += 3.0 * num_pushup + 130.0 * num_miles_ran\n",
    "\n",
    "# Define Constraints\n",
    "model += 0.2 * num_pushup + 10.0 * num_miles_ran <= 10.0\n",
    "model += num_pushup >= 0\n",
    "model += num_miles_ran >= 0\n",
    "\n",
    "# Solve Model\n",
    "model.solve()\n",
    "print(\"{} pushups\".format(num_pushup.varValue))\n",
    "print(\"{} running\".format(num_miles_ran.varValue))"
   ]
  },
  {
   "cell_type": "code",
   "execution_count": 1,
   "metadata": {},
   "outputs": [],
   "source": [
    "def lp(num_pushup, num_miles_ran):\n",
    "    \"\"\"This function prints the number of calories burned, time used, and if that time is greater than 10 minutes\"\"\"\n",
    "    obj = 3.0 * num_pushup + 130.0 * num_miles_ran\n",
    "    print(\"Calories Burned: {0}\".format(obj))\n",
    "    min = 0.2 * num_pushup + 10.0 * num_miles_ran\n",
    "    print(\"Time Used: {0}\".format(min))\n",
    "    print(\"Used too much time: {0}\".format(min>10.0))"
   ]
  },
  {
   "cell_type": "code",
   "execution_count": 2,
   "metadata": {},
   "outputs": [
    {
     "name": "stdout",
     "output_type": "stream",
     "text": [
      "Calories Burned: 150.0\n",
      "Time Used: 10.0\n",
      "Used too much time: False\n"
     ]
    }
   ],
   "source": [
    "num_pushup = 50\n",
    "num_miles_ran = 0\n",
    "lp(num_pushup, num_miles_ran)"
   ]
  },
  {
   "cell_type": "code",
   "execution_count": 3,
   "metadata": {},
   "outputs": [
    {
     "name": "stdout",
     "output_type": "stream",
     "text": [
      "Calories Burned: 130.0\n",
      "Time Used: 10.0\n",
      "Used too much time: False\n"
     ]
    }
   ],
   "source": [
    "num_pushup = 0\n",
    "num_miles_ran = 1\n",
    "lp(num_pushup, num_miles_ran)"
   ]
  },
  {
   "cell_type": "code",
   "execution_count": 4,
   "metadata": {},
   "outputs": [
    {
     "name": "stdout",
     "output_type": "stream",
     "text": [
      "Calories Burned: 155.0\n",
      "Time Used: 11.0\n",
      "Used too much time: True\n"
     ]
    }
   ],
   "source": [
    "num_pushup = 30\n",
    "num_miles_ran = 0.5\n",
    "lp(num_pushup, num_miles_ran)"
   ]
  },
  {
   "cell_type": "markdown",
   "metadata": {},
   "source": [
    "### Simple resource scheduling exercise\n",
    "- In this exercise we are planning the production at a glass manufacturer. This manufacturer only produces wine and beer glasses:\n",
    "- there is a maximum production capacity of 60 hours\n",
    "- each batch of wine and beer glasses takes 6 and 5 hours respectively\n",
    "- the warehouse has a maximum capacity of 150 rack spaces\n",
    "- each batch of the wine and beer glasses takes 10 and 20 spaces respectively\n",
    "- the production equipment can only make full batches, no partial batches\n",
    "\n",
    "- Also, we only have orders for 6 batches of wine glasses. Therefore, we do not want to produce more than this. Each batch of the wine glasses earns a profit of `$ 5` and the beer `$ 4.5`\n",
    "- The objective is to maximize the profit for the manufacturer."
   ]
  },
  {
   "cell_type": "code",
   "execution_count": 7,
   "metadata": {},
   "outputs": [],
   "source": [
    "from pulp import *"
   ]
  },
  {
   "cell_type": "code",
   "execution_count": 8,
   "metadata": {},
   "outputs": [
    {
     "name": "stderr",
     "output_type": "stream",
     "text": [
      "C:\\Users\\E1366134\\Anaconda3\\lib\\site-packages\\pulp\\pulp.py:1199: UserWarning: Spaces are not permitted in the name. Converted to '_'\n",
      "  warnings.warn(\"Spaces are not permitted in the name. Converted to '_'\")\n"
     ]
    },
    {
     "name": "stdout",
     "output_type": "stream",
     "text": [
      "Produce 6.0 batches of wine glasses\n",
      "Produce 4.0 batches of beer glasses\n"
     ]
    }
   ],
   "source": [
    "# Initialize Class\n",
    "model = LpProblem(\"Maximize Glass Co. Profits\", LpMaximize)\n",
    "\n",
    "# Define Decision Variables\n",
    "wine = LpVariable('Wine', lowBound=0, upBound=None, cat='Integer')\n",
    "beer = LpVariable('Beer', lowBound=0, upBound=None, cat='Integer')\n",
    "\n",
    "# Define Objective Function\n",
    "model += 5 * wine + 4.5 * beer\n",
    "\n",
    "# Define Constraints\n",
    "model += 6 * wine + 5 * beer <= 60\n",
    "model += 10 * wine + 20 * beer <= 150\n",
    "model += wine <= 6\n",
    "\n",
    "# Solve Model\n",
    "model.solve()\n",
    "print(\"Produce {} batches of wine glasses\".format(wine.varValue))\n",
    "print(\"Produce {} batches of beer glasses\".format(beer.varValue))"
   ]
  },
  {
   "cell_type": "markdown",
   "metadata": {},
   "source": [
    "##### Using `LpMaximize()` makes sense because we are trying to maximize profits. It does not make sense to set an upper bound on the number of wine or beer glasses produced: the more the better. However, setting a lower bound is important because producing negative glasses is impossible. Also, selecting the variable to be an integer makes sense because we can not make half batches. Adding the last constraint on wine based on current orders is important to add to avoid producing too many wine glasses."
   ]
  }
 ],
 "metadata": {
  "kernelspec": {
   "display_name": "Python 3",
   "language": "python",
   "name": "python3"
  },
  "language_info": {
   "codemirror_mode": {
    "name": "ipython",
    "version": 3
   },
   "file_extension": ".py",
   "mimetype": "text/x-python",
   "name": "python",
   "nbconvert_exporter": "python",
   "pygments_lexer": "ipython3",
   "version": "3.8.5"
  }
 },
 "nbformat": 4,
 "nbformat_minor": 4
}
