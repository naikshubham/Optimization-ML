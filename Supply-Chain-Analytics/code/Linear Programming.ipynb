{
 "cells": [
  {
   "cell_type": "markdown",
   "metadata": {},
   "source": [
    "### Choosing exercise routine\n",
    "- choosing an exercise routine that burns the max number of calories. A function has been defined, based on the input of pushups and miles ran, will print the number of calories burned, time used, and if that time is greater than 10 minutes."
   ]
  },
  {
   "cell_type": "code",
   "execution_count": 16,
   "metadata": {},
   "outputs": [],
   "source": [
    "from pulp import *"
   ]
  },
  {
   "cell_type": "code",
   "execution_count": 15,
   "metadata": {},
   "outputs": [
    {
     "name": "stdout",
     "output_type": "stream",
     "text": [
      "50.0 pushups\n",
      "0.0 running\n"
     ]
    }
   ],
   "source": [
    "# Initialize Class\n",
    "model = LpProblem(\"Maximize calories burnt\", LpMaximize)\n",
    "\n",
    "# Define Decision Variables\n",
    "num_pushup = LpVariable('Pushups', lowBound=0, upBound=None, cat='Integer')\n",
    "num_miles_ran = LpVariable('Running', lowBound=0, upBound=None, cat='Integer')\n",
    "\n",
    "# Define Objective Function\n",
    "model += 3.0 * num_pushup + 130.0 * num_miles_ran\n",
    "\n",
    "# Define Constraints\n",
    "model += 0.2 * num_pushup + 10.0 * num_miles_ran <= 10.0\n",
    "model += num_pushup >= 0\n",
    "model += num_miles_ran >= 0\n",
    "\n",
    "# Solve Model\n",
    "model.solve()\n",
    "print(\"{} pushups\".format(num_pushup.varValue))\n",
    "print(\"{} running\".format(num_miles_ran.varValue))"
   ]
  },
  {
   "cell_type": "code",
   "execution_count": 1,
   "metadata": {},
   "outputs": [],
   "source": [
    "def lp(num_pushup, num_miles_ran):\n",
    "    \"\"\"This function prints the number of calories burned, time used, and if that time is greater than 10 minutes\"\"\"\n",
    "    obj = 3.0 * num_pushup + 130.0 * num_miles_ran\n",
    "    print(\"Calories Burned: {0}\".format(obj))\n",
    "    min = 0.2 * num_pushup + 10.0 * num_miles_ran\n",
    "    print(\"Time Used: {0}\".format(min))\n",
    "    print(\"Used too much time: {0}\".format(min>10.0))"
   ]
  },
  {
   "cell_type": "code",
   "execution_count": 2,
   "metadata": {},
   "outputs": [
    {
     "name": "stdout",
     "output_type": "stream",
     "text": [
      "Calories Burned: 150.0\n",
      "Time Used: 10.0\n",
      "Used too much time: False\n"
     ]
    }
   ],
   "source": [
    "num_pushup = 50\n",
    "num_miles_ran = 0\n",
    "lp(num_pushup, num_miles_ran)"
   ]
  },
  {
   "cell_type": "code",
   "execution_count": 3,
   "metadata": {},
   "outputs": [
    {
     "name": "stdout",
     "output_type": "stream",
     "text": [
      "Calories Burned: 130.0\n",
      "Time Used: 10.0\n",
      "Used too much time: False\n"
     ]
    }
   ],
   "source": [
    "num_pushup = 0\n",
    "num_miles_ran = 1\n",
    "lp(num_pushup, num_miles_ran)"
   ]
  },
  {
   "cell_type": "code",
   "execution_count": 4,
   "metadata": {},
   "outputs": [
    {
     "name": "stdout",
     "output_type": "stream",
     "text": [
      "Calories Burned: 155.0\n",
      "Time Used: 11.0\n",
      "Used too much time: True\n"
     ]
    }
   ],
   "source": [
    "num_pushup = 30\n",
    "num_miles_ran = 0.5\n",
    "lp(num_pushup, num_miles_ran)"
   ]
  },
  {
   "cell_type": "markdown",
   "metadata": {},
   "source": [
    "### Simple resource scheduling exercise\n",
    "- In this exercise we are planning the production at a glass manufacturer. This manufacturer only produces wine and beer glasses:\n",
    "- there is a maximum production capacity of 60 hours\n",
    "- each batch of wine and beer glasses takes 6 and 5 hours respectively\n",
    "- the warehouse has a maximum capacity of 150 rack spaces\n",
    "- each batch of the wine and beer glasses takes 10 and 20 spaces respectively\n",
    "- the production equipment can only make full batches, no partial batches\n",
    "\n",
    "- Also, we only have orders for 6 batches of wine glasses. Therefore, we do not want to produce more than this. Each batch of the wine glasses earns a profit of `$ 5` and the beer `$ 4.5`\n",
    "- The objective is to maximize the profit for the manufacturer."
   ]
  },
  {
   "cell_type": "code",
   "execution_count": 7,
   "metadata": {},
   "outputs": [],
   "source": [
    "from pulp import *"
   ]
  },
  {
   "cell_type": "code",
   "execution_count": 8,
   "metadata": {},
   "outputs": [
    {
     "name": "stderr",
     "output_type": "stream",
     "text": [
      "C:\\Users\\E1366134\\Anaconda3\\lib\\site-packages\\pulp\\pulp.py:1199: UserWarning: Spaces are not permitted in the name. Converted to '_'\n",
      "  warnings.warn(\"Spaces are not permitted in the name. Converted to '_'\")\n"
     ]
    },
    {
     "name": "stdout",
     "output_type": "stream",
     "text": [
      "Produce 6.0 batches of wine glasses\n",
      "Produce 4.0 batches of beer glasses\n"
     ]
    }
   ],
   "source": [
    "# Initialize Class\n",
    "model = LpProblem(\"Maximize Glass Co. Profits\", LpMaximize)\n",
    "\n",
    "# Define Decision Variables\n",
    "wine = LpVariable('Wine', lowBound=0, upBound=None, cat='Integer')\n",
    "beer = LpVariable('Beer', lowBound=0, upBound=None, cat='Integer')\n",
    "\n",
    "# Define Objective Function\n",
    "model += 5 * wine + 4.5 * beer\n",
    "\n",
    "# Define Constraints\n",
    "model += 6 * wine + 5 * beer <= 60\n",
    "model += 10 * wine + 20 * beer <= 150\n",
    "model += wine <= 6\n",
    "\n",
    "# Solve Model\n",
    "model.solve()\n",
    "print(\"Produce {} batches of wine glasses\".format(wine.varValue))\n",
    "print(\"Produce {} batches of beer glasses\".format(beer.varValue))"
   ]
  },
  {
   "cell_type": "markdown",
   "metadata": {},
   "source": [
    "##### Using `LpMaximize()` makes sense because we are trying to maximize profits. It does not make sense to set an upper bound on the number of wine or beer glasses produced: the more the better. However, setting a lower bound is important because producing negative glasses is impossible. Also, selecting the variable to be an integer makes sense because we can not make half batches. Adding the last constraint on wine based on current orders is important to add to avoid producing too many wine glasses."
   ]
  },
  {
   "cell_type": "markdown",
   "metadata": {},
   "source": [
    "#### Trying out lpSum\n",
    "- making two types (premium and budget) of ice cream, using heavy cream, whole milk, and sugar. One version is a premium version containing more cream than our budget version.We are looking to find the mixture of ingredients that minimizes the total costs of ingredients.\n",
    "\n",
    "```\n",
    "Ingredient\t| $/cup     |\n",
    ":----------:|:---------:|\n",
    "Cream\t    | $1.5      |\n",
    "Milk\t    | $0.125    |\n",
    "Sugar\t    | $0.10     |\n",
    "```"
   ]
  },
  {
   "cell_type": "code",
   "execution_count": 18,
   "metadata": {},
   "outputs": [
    {
     "name": "stderr",
     "output_type": "stream",
     "text": [
      "C:\\Users\\E1366134\\Anaconda3\\lib\\site-packages\\pulp\\pulp.py:1537: UserWarning: Overwriting previously set objective.\n",
      "  warnings.warn(\"Overwriting previously set objective.\")\n"
     ]
    }
   ],
   "source": [
    "cb = LpVariable('budgetcream', lowBound=0, upBound=None, cat='Integer')\n",
    "mb = LpVariable('budgetmilk', lowBound=0, upBound=None, cat='Integer')\n",
    "sb = LpVariable('budgetsugar', lowBound=0, upBound=None, cat='Integer')\n",
    "cp = LpVariable('premiumcream', lowBound=0, upBound=None, cat='Integer')\n",
    "mp = LpVariable('premiummilk', lowBound=0, upBound=None, cat='Integer')\n",
    "sp = LpVariable('premiumsugar', lowBound=0, upBound=None, cat='Integer')\n",
    "\n",
    "prod_type = ['premium', 'budget']\n",
    "ingredient = ['cream', 'milk', 'sugar']\n",
    "var_dict = {('budget', 'cream'): cb,\n",
    " ('budget', 'milk'): mb,\n",
    " ('budget', 'sugar'): sb,\n",
    " ('premium', 'cream'): cp,\n",
    " ('premium', 'milk'): mp,\n",
    " ('premium', 'sugar'): sp}\n",
    "\n",
    "\n",
    "# Define Objective Function\n",
    "model += lpSum([1.5 * var_dict[(i, 'cream')] \n",
    "                + 0.125 * var_dict[(i, 'milk')] \n",
    "                + 0.1 * var_dict[(i, 'sugar')]\n",
    "                \n",
    "                # Iterate over product types\n",
    "                for i in prod_type])"
   ]
  },
  {
   "cell_type": "markdown",
   "metadata": {},
   "source": [
    "##### In this situation using list comprehesion with lpSum() allows us to quickly define the objective function."
   ]
  },
  {
   "cell_type": "markdown",
   "metadata": {},
   "source": [
    "## Logistics planning problem\n",
    "- We are consulting for kitchen oven manufacturer helping to plan their logistics for next month. There are two warehouse locations (New York, and Atlanta), and four regional customer locations (East, South, Midwest, West). The expected demand next month for East it is 1,800, for South it is 1,200, for the Midwest it is 1,100, and for West it is 1000. The cost for shipping each of the warehouse locations to the regional customer's is listed in the table below. Our goal is to fulfill the regional demand at the lowest price.\n",
    "\n",
    "\n",
    "|Customer\t|New York\t|Atlanta   |\n",
    "|:---------:|:---------:|:--------:|\n",
    "|East\t    |$211\t    |$232      |\n",
    "|South\t    |$232\t    |$212      |\n",
    "|Midwest\t|$240\t    |$230      |\n",
    "|West\t    |$300\t    |$280      |"
   ]
  },
  {
   "cell_type": "code",
   "execution_count": 23,
   "metadata": {},
   "outputs": [],
   "source": [
    "costs = {('Atlanta', 'East'): 232,\n",
    " ('Atlanta', 'Midwest'): 230,\n",
    " ('Atlanta', 'South'): 212,\n",
    " ('Atlanta', 'West'): 280,\n",
    " ('New York', 'East'): 211,\n",
    " ('New York', 'Midwest'): 240,\n",
    " ('New York', 'South'): 232,\n",
    " ('New York', 'West'): 300}\n",
    "\n",
    "atle = LpVariable('atle', lowBound=0, upBound=None, cat='Integer')\n",
    "atlm = LpVariable('atlm', lowBound=0, upBound=None, cat='Integer')\n",
    "atls = LpVariable('atls', lowBound=0, upBound=None, cat='Integer')\n",
    "atlw = LpVariable('atlw', lowBound=0, upBound=None, cat='Integer')\n",
    "ne = LpVariable('ne', lowBound=0, upBound=None, cat='Integer')\n",
    "nm = LpVariable('nm', lowBound=0, upBound=None, cat='Integer')\n",
    "ns = LpVariable('ns', lowBound=0, upBound=None, cat='Integer')\n",
    "nw = LpVariable('nw', lowBound=0, upBound=None, cat='Integer')\n",
    "\n",
    "var_dict = {('Atlanta', 'East'): atle,\n",
    " ('Atlanta', 'Midwest'): atlm,\n",
    " ('Atlanta', 'South'): atls,\n",
    " ('Atlanta', 'West'): atlw,\n",
    " ('New York', 'East'): ne,\n",
    " ('New York', 'Midwest'): nm,\n",
    " ('New York', 'South'): ns,\n",
    " ('New York', 'West'): nw}"
   ]
  },
  {
   "cell_type": "markdown",
   "metadata": {},
   "source": [
    "1. Initialize the model.\n",
    "2. `Decision Variables` :Create a list for the warehouse locations, the regional customers and the regional_demand respectively, making sure the demand and customer indices match, and zip the customers and regional_demand lists to build the demand dictionary.\n",
    "3. `Define Objective` : Our decision variables here are the `number of shipments` for each warehouse and `customer combination`. We want to `minimize the total cost of shipping`. The total cost of shipping is the shipping costs along a route multiplied by the number of shipments along that route. Define the objective function using `lpSum()` with list comprehension, using the `var_dict` dictionary, iterating over customers.\n",
    "4. Define the `constraint` using `lpSum`. Loop through the `list of customers`, and for each sum the shipments from the warehouses and set it equal to the customer demand. Remember we now have the customer demand as a dictionary with the customer name as the key."
   ]
  },
  {
   "cell_type": "code",
   "execution_count": 25,
   "metadata": {},
   "outputs": [],
   "source": [
    "from pulp import *\n",
    "\n",
    "# Initialize Model\n",
    "model = LpProblem(\"Minimize Transportation Costs\", LpMinimize)\n",
    "\n",
    "# Build the lists and the demand dictionary (Decision variables)\n",
    "warehouse = ['New York', 'Atlanta']\n",
    "customers = ['East', 'South', 'Midwest', 'West']\n",
    "regional_demand = [1800, 1200, 1100, 1000]\n",
    "demand = dict(zip(customers, regional_demand))\n",
    "\n",
    "# Define Objective\n",
    "model += lpSum([costs[(w, c)] * var_dict[(w, c)] \n",
    "                for c in customers for w in warehouse])\n",
    "\n",
    "\n",
    "# For each customer, sum warehouse shipments and set equal to customer demand\n",
    "for c in customers:\n",
    "    model += lpSum([var_dict[(w, c)] for w in warehouse]) == demand[c]"
   ]
  },
  {
   "cell_type": "markdown",
   "metadata": {},
   "source": [
    "##### Using `LpMinimize()` makes sense because we are trying to minimize shipping cost. Creating the different lists and dictionaries make it easy to define the objective function and constraints with lpSum()."
   ]
  },
  {
   "cell_type": "markdown",
   "metadata": {},
   "source": [
    "## Logistics planning problem 2\n",
    "- We are again consulting for kitchen oven manufacturer helping to plan their logistics. This time we are attempting to put together a plan for the next six months (Jan.-Jun.). There are still two warehouse locations (New York, and Atlanta), and four regional customer locations (East, South, Midwest, West). The cost for shipping for each of the warehouse locations to the regional customer's is listed in the table below. \n",
    "- Our goal is to determine the number of shipments from each warehouse to customers that provides the lowest costs.\n",
    "\n",
    "|Customer |New York  |Atlanta  |\n",
    "|:-------:|:--------:|:-------:|\n",
    "|East\t  |$211\t     |$232     |\n",
    "|South\t  |$232\t     |$212     |\n",
    "|Midwest  |$240\t     |$230     |\n",
    "|West\t  |$300\t     |$280     |\n"
   ]
  },
  {
   "cell_type": "code",
   "execution_count": null,
   "metadata": {},
   "outputs": [],
   "source": [
    "costs = {('Atlanta', 'East'): 232,\n",
    " ('Atlanta', 'Midwest'): 230,\n",
    " ('Atlanta', 'South'): 212,\n",
    " ('Atlanta', 'West'): 280,\n",
    " ('New York', 'East'): 211,\n",
    " ('New York', 'Midwest'): 240,\n",
    " ('New York', 'South'): 232,\n",
    " ('New York', 'West'): 300}\n",
    "\n",
    "months = ['Jan', 'Feb', 'Mar', 'Apr', 'May', 'Jun']\n",
    "warehouse = ['New York', 'Atlanta']\n",
    "customers = ['East', 'South', 'Midwest', 'West']\n"
   ]
  },
  {
   "cell_type": "markdown",
   "metadata": {},
   "source": [
    "1. Define the decision variables in the model by first using list comprehension to iterate over the months, warehouse, and customers lists to create a list of keys. Use that list of keys with `LpVariable.dicts()` to define the variables needed.\n",
    "2. Define the objective function by adding all the costs of shipping from a particular warehouse and customer over the six months."
   ]
  },
  {
   "cell_type": "code",
   "execution_count": null,
   "metadata": {},
   "outputs": [],
   "source": []
  }
 ],
 "metadata": {
  "kernelspec": {
   "display_name": "Python 3",
   "language": "python",
   "name": "python3"
  },
  "language_info": {
   "codemirror_mode": {
    "name": "ipython",
    "version": 3
   },
   "file_extension": ".py",
   "mimetype": "text/x-python",
   "name": "python",
   "nbconvert_exporter": "python",
   "pygments_lexer": "ipython3",
   "version": "3.8.5"
  }
 },
 "nbformat": 4,
 "nbformat_minor": 4
}
